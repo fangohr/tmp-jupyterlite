{
 "cells": [
  {
   "cell_type": "markdown",
   "id": "5c2b8cc4",
   "metadata": {},
   "source": [
    "# Lecture 01, 16 October 2023\n",
    "\n",
    "Preparation for Laboratory 01\n"
   ]
  },
  {
   "cell_type": "markdown",
   "id": "eba8d7be",
   "metadata": {},
   "source": [
    "Useful resources and topics:\n",
    "\n",
    "## Installation of Python\n",
    "\n",
    "from brief to most detailed:\n",
    "- install Anaconda Python distribution from https://www.anaconda.com/download\n",
    "- video on blackboard\n",
    "- detailed blog https://fangohr.github.io/blog/installation-of-python-spyder-numpy-sympy-scipy-pytest-matplotlib-via-anaconda.html\n",
    "\n",
    "## Spyder\n",
    "\n",
    "- video on blackboard (L1, V3)"
   ]
  },
  {
   "cell_type": "code",
   "execution_count": null,
   "id": "a3d6dbbc",
   "metadata": {},
   "outputs": [],
   "source": []
  }
 ],
 "metadata": {
  "kernelspec": {
   "display_name": "Python 3 (ipykernel)",
   "language": "python",
   "name": "python3"
  },
  "language_info": {
   "codemirror_mode": {
    "name": "ipython",
    "version": 3
   },
   "file_extension": ".py",
   "mimetype": "text/x-python",
   "name": "python",
   "nbconvert_exporter": "python",
   "pygments_lexer": "ipython3",
   "version": "3.9.13"
  }
 },
 "nbformat": 4,
 "nbformat_minor": 5
}
